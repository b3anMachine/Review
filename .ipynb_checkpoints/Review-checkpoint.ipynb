{
 "cells": [
  {
   "cell_type": "code",
   "execution_count": 1,
   "metadata": {},
   "outputs": [],
   "source": [
    "%matplotlib inline\n",
    "import pandas as pd\n",
    "import matplotlib.pyplot as plt\n",
    "import seaborn as sns\n",
    "import numpy as np\n",
    "from readability import Readability\n",
    "import textstat\n",
    "sns.set(style=\"darkgrid\")"
   ]
  },
  {
   "cell_type": "code",
   "execution_count": 2,
   "metadata": {
    "scrolled": true
   },
   "outputs": [],
   "source": [
    "dfHardware = pd.read_json('reviews_Tools_and_Home_Improvement_5.json.gz', lines=True, compression='infer')\n",
    "dfHardware[\"category\"] = \"Hardware\" \n",
    "dfBeauty = pd.read_json('reviews_Beauty_5.json.gz', lines=True, compression='infer')\n",
    "dfBeauty[\"category\"] = \"Beauty\" \n",
    "frames = [dfHardware, dfBeauty]\n",
    "df = pd.concat(frames)"
   ]
  },
  {
   "cell_type": "code",
   "execution_count": 3,
   "metadata": {
    "scrolled": true
   },
   "outputs": [
    {
     "data": {
      "text/html": [
       "<div>\n",
       "<style scoped>\n",
       "    .dataframe tbody tr th:only-of-type {\n",
       "        vertical-align: middle;\n",
       "    }\n",
       "\n",
       "    .dataframe tbody tr th {\n",
       "        vertical-align: top;\n",
       "    }\n",
       "\n",
       "    .dataframe thead th {\n",
       "        text-align: right;\n",
       "    }\n",
       "</style>\n",
       "<table border=\"1\" class=\"dataframe\">\n",
       "  <thead>\n",
       "    <tr style=\"text-align: right;\">\n",
       "      <th></th>\n",
       "      <th>reviewerID</th>\n",
       "      <th>asin</th>\n",
       "      <th>reviewerName</th>\n",
       "      <th>helpful</th>\n",
       "      <th>reviewText</th>\n",
       "      <th>overall</th>\n",
       "      <th>summary</th>\n",
       "      <th>unixReviewTime</th>\n",
       "      <th>reviewTime</th>\n",
       "      <th>category</th>\n",
       "    </tr>\n",
       "  </thead>\n",
       "  <tbody>\n",
       "    <tr>\n",
       "      <th>0</th>\n",
       "      <td>A4IL0CLL27Q33</td>\n",
       "      <td>104800001X</td>\n",
       "      <td>D. Brennan</td>\n",
       "      <td>[0, 1]</td>\n",
       "      <td>I hate it when my shirt collars, not otherwise...</td>\n",
       "      <td>5</td>\n",
       "      <td>Perfect for collar stay management</td>\n",
       "      <td>1390953600</td>\n",
       "      <td>01 29, 2014</td>\n",
       "      <td>Hardware</td>\n",
       "    </tr>\n",
       "    <tr>\n",
       "      <th>1</th>\n",
       "      <td>A3Q5W5E7TDVLJF</td>\n",
       "      <td>104800001X</td>\n",
       "      <td>funnyc130</td>\n",
       "      <td>[0, 0]</td>\n",
       "      <td>These little magnets are really powerful for t...</td>\n",
       "      <td>5</td>\n",
       "      <td>Neat</td>\n",
       "      <td>1369958400</td>\n",
       "      <td>05 31, 2013</td>\n",
       "      <td>Hardware</td>\n",
       "    </tr>\n",
       "    <tr>\n",
       "      <th>2</th>\n",
       "      <td>A37KNOJXE2FU6</td>\n",
       "      <td>104800001X</td>\n",
       "      <td>Joseph Yonke II</td>\n",
       "      <td>[0, 0]</td>\n",
       "      <td>I wanted something this small to mount on the ...</td>\n",
       "      <td>5</td>\n",
       "      <td>Very small and thin</td>\n",
       "      <td>1363132800</td>\n",
       "      <td>03 13, 2013</td>\n",
       "      <td>Hardware</td>\n",
       "    </tr>\n",
       "    <tr>\n",
       "      <th>3</th>\n",
       "      <td>A3U4AFML9SZPWK</td>\n",
       "      <td>104800001X</td>\n",
       "      <td>Leith Tussing \"I like tacos.\"</td>\n",
       "      <td>[0, 0]</td>\n",
       "      <td>I use these to magnetize my Warhammer 40K mini...</td>\n",
       "      <td>5</td>\n",
       "      <td>Excellent hobby magnets</td>\n",
       "      <td>1371340800</td>\n",
       "      <td>06 16, 2013</td>\n",
       "      <td>Hardware</td>\n",
       "    </tr>\n",
       "    <tr>\n",
       "      <th>4</th>\n",
       "      <td>A36Y7X194VWVKA</td>\n",
       "      <td>104800001X</td>\n",
       "      <td>Mark D.</td>\n",
       "      <td>[23, 25]</td>\n",
       "      <td>They are soo freaking annoying!!  Why?! You sp...</td>\n",
       "      <td>5</td>\n",
       "      <td>They're annoying... which is why they get five...</td>\n",
       "      <td>1376006400</td>\n",
       "      <td>08 9, 2013</td>\n",
       "      <td>Hardware</td>\n",
       "    </tr>\n",
       "  </tbody>\n",
       "</table>\n",
       "</div>"
      ],
      "text/plain": [
       "       reviewerID        asin                   reviewerName   helpful  \\\n",
       "0   A4IL0CLL27Q33  104800001X                     D. Brennan    [0, 1]   \n",
       "1  A3Q5W5E7TDVLJF  104800001X                      funnyc130    [0, 0]   \n",
       "2   A37KNOJXE2FU6  104800001X                Joseph Yonke II    [0, 0]   \n",
       "3  A3U4AFML9SZPWK  104800001X  Leith Tussing \"I like tacos.\"    [0, 0]   \n",
       "4  A36Y7X194VWVKA  104800001X                        Mark D.  [23, 25]   \n",
       "\n",
       "                                          reviewText  overall  \\\n",
       "0  I hate it when my shirt collars, not otherwise...        5   \n",
       "1  These little magnets are really powerful for t...        5   \n",
       "2  I wanted something this small to mount on the ...        5   \n",
       "3  I use these to magnetize my Warhammer 40K mini...        5   \n",
       "4  They are soo freaking annoying!!  Why?! You sp...        5   \n",
       "\n",
       "                                             summary  unixReviewTime  \\\n",
       "0                 Perfect for collar stay management      1390953600   \n",
       "1                                               Neat      1369958400   \n",
       "2                                Very small and thin      1363132800   \n",
       "3                            Excellent hobby magnets      1371340800   \n",
       "4  They're annoying... which is why they get five...      1376006400   \n",
       "\n",
       "    reviewTime  category  \n",
       "0  01 29, 2014  Hardware  \n",
       "1  05 31, 2013  Hardware  \n",
       "2  03 13, 2013  Hardware  \n",
       "3  06 16, 2013  Hardware  \n",
       "4   08 9, 2013  Hardware  "
      ]
     },
     "execution_count": 3,
     "metadata": {},
     "output_type": "execute_result"
    }
   ],
   "source": [
    "df.head()"
   ]
  },
  {
   "cell_type": "code",
   "execution_count": 4,
   "metadata": {},
   "outputs": [
    {
     "data": {
      "text/html": [
       "<div>\n",
       "<style scoped>\n",
       "    .dataframe tbody tr th:only-of-type {\n",
       "        vertical-align: middle;\n",
       "    }\n",
       "\n",
       "    .dataframe tbody tr th {\n",
       "        vertical-align: top;\n",
       "    }\n",
       "\n",
       "    .dataframe thead th {\n",
       "        text-align: right;\n",
       "    }\n",
       "</style>\n",
       "<table border=\"1\" class=\"dataframe\">\n",
       "  <thead>\n",
       "    <tr style=\"text-align: right;\">\n",
       "      <th></th>\n",
       "      <th>reviewerID</th>\n",
       "      <th>asin</th>\n",
       "      <th>reviewerName</th>\n",
       "      <th>helpful</th>\n",
       "      <th>reviewText</th>\n",
       "      <th>overall</th>\n",
       "      <th>summary</th>\n",
       "      <th>unixReviewTime</th>\n",
       "      <th>reviewTime</th>\n",
       "      <th>category</th>\n",
       "    </tr>\n",
       "  </thead>\n",
       "  <tbody>\n",
       "    <tr>\n",
       "      <th>198497</th>\n",
       "      <td>A2BLFCOPSMBOZ9</td>\n",
       "      <td>B00LLPT4HI</td>\n",
       "      <td>Dave Edmiston</td>\n",
       "      <td>[0, 0]</td>\n",
       "      <td>Just a little dab of this shea butter should b...</td>\n",
       "      <td>5</td>\n",
       "      <td>A little dab...</td>\n",
       "      <td>1405468800</td>\n",
       "      <td>07 16, 2014</td>\n",
       "      <td>Beauty</td>\n",
       "    </tr>\n",
       "    <tr>\n",
       "      <th>198498</th>\n",
       "      <td>A1UQBFCERIP7VJ</td>\n",
       "      <td>B00LLPT4HI</td>\n",
       "      <td>Margaret Picky</td>\n",
       "      <td>[0, 0]</td>\n",
       "      <td>This shea butter is completely raw and unrefin...</td>\n",
       "      <td>5</td>\n",
       "      <td>Pure organic raw shea butter</td>\n",
       "      <td>1405296000</td>\n",
       "      <td>07 14, 2014</td>\n",
       "      <td>Beauty</td>\n",
       "    </tr>\n",
       "    <tr>\n",
       "      <th>198499</th>\n",
       "      <td>A35Q0RBM3YNQNF</td>\n",
       "      <td>B00LLPT4HI</td>\n",
       "      <td>M. Hill</td>\n",
       "      <td>[0, 0]</td>\n",
       "      <td>The skin is the body's largest organ and it ab...</td>\n",
       "      <td>5</td>\n",
       "      <td>One Pound Organic Grade A Unrefined Shea Butter</td>\n",
       "      <td>1405468800</td>\n",
       "      <td>07 16, 2014</td>\n",
       "      <td>Beauty</td>\n",
       "    </tr>\n",
       "    <tr>\n",
       "      <th>198500</th>\n",
       "      <td>A3LGT6UZL99IW1</td>\n",
       "      <td>B00LLPT4HI</td>\n",
       "      <td>Richard C. Drew \"Anaal Nathra/Uthe vas Bethod...</td>\n",
       "      <td>[0, 0]</td>\n",
       "      <td>I have very dry elbows and knees.  I have a to...</td>\n",
       "      <td>5</td>\n",
       "      <td>This stuff is amazing!</td>\n",
       "      <td>1405382400</td>\n",
       "      <td>07 15, 2014</td>\n",
       "      <td>Beauty</td>\n",
       "    </tr>\n",
       "    <tr>\n",
       "      <th>198501</th>\n",
       "      <td>A3UJRNI8UR4871</td>\n",
       "      <td>B00LLPT4HI</td>\n",
       "      <td>Wulfstan \"wulfstan\"</td>\n",
       "      <td>[0, 1]</td>\n",
       "      <td>This is 100% pure Shea Butter. Do not mistake ...</td>\n",
       "      <td>5</td>\n",
       "      <td>The \"Real Stuff\"!</td>\n",
       "      <td>1405987200</td>\n",
       "      <td>07 22, 2014</td>\n",
       "      <td>Beauty</td>\n",
       "    </tr>\n",
       "  </tbody>\n",
       "</table>\n",
       "</div>"
      ],
      "text/plain": [
       "            reviewerID        asin  \\\n",
       "198497  A2BLFCOPSMBOZ9  B00LLPT4HI   \n",
       "198498  A1UQBFCERIP7VJ  B00LLPT4HI   \n",
       "198499  A35Q0RBM3YNQNF  B00LLPT4HI   \n",
       "198500  A3LGT6UZL99IW1  B00LLPT4HI   \n",
       "198501  A3UJRNI8UR4871  B00LLPT4HI   \n",
       "\n",
       "                                            reviewerName helpful  \\\n",
       "198497                                     Dave Edmiston  [0, 0]   \n",
       "198498                                    Margaret Picky  [0, 0]   \n",
       "198499                                           M. Hill  [0, 0]   \n",
       "198500  Richard C. Drew \"Anaal Nathra/Uthe vas Bethod...  [0, 0]   \n",
       "198501                               Wulfstan \"wulfstan\"  [0, 1]   \n",
       "\n",
       "                                               reviewText  overall  \\\n",
       "198497  Just a little dab of this shea butter should b...        5   \n",
       "198498  This shea butter is completely raw and unrefin...        5   \n",
       "198499  The skin is the body's largest organ and it ab...        5   \n",
       "198500  I have very dry elbows and knees.  I have a to...        5   \n",
       "198501  This is 100% pure Shea Butter. Do not mistake ...        5   \n",
       "\n",
       "                                                summary  unixReviewTime  \\\n",
       "198497                                  A little dab...      1405468800   \n",
       "198498                     Pure organic raw shea butter      1405296000   \n",
       "198499  One Pound Organic Grade A Unrefined Shea Butter      1405468800   \n",
       "198500                           This stuff is amazing!      1405382400   \n",
       "198501                                The \"Real Stuff\"!      1405987200   \n",
       "\n",
       "         reviewTime category  \n",
       "198497  07 16, 2014   Beauty  \n",
       "198498  07 14, 2014   Beauty  \n",
       "198499  07 16, 2014   Beauty  \n",
       "198500  07 15, 2014   Beauty  \n",
       "198501  07 22, 2014   Beauty  "
      ]
     },
     "execution_count": 4,
     "metadata": {},
     "output_type": "execute_result"
    }
   ],
   "source": [
    "df.tail()"
   ]
  },
  {
   "cell_type": "code",
   "execution_count": 5,
   "metadata": {},
   "outputs": [
    {
     "data": {
      "text/plain": [
       "332978"
      ]
     },
     "execution_count": 5,
     "metadata": {},
     "output_type": "execute_result"
    }
   ],
   "source": [
    "len(df)"
   ]
  },
  {
   "cell_type": "code",
   "execution_count": 6,
   "metadata": {},
   "outputs": [
    {
     "data": {
      "text/html": [
       "<div>\n",
       "<style scoped>\n",
       "    .dataframe tbody tr th:only-of-type {\n",
       "        vertical-align: middle;\n",
       "    }\n",
       "\n",
       "    .dataframe tbody tr th {\n",
       "        vertical-align: top;\n",
       "    }\n",
       "\n",
       "    .dataframe thead th {\n",
       "        text-align: right;\n",
       "    }\n",
       "</style>\n",
       "<table border=\"1\" class=\"dataframe\">\n",
       "  <thead>\n",
       "    <tr style=\"text-align: right;\">\n",
       "      <th></th>\n",
       "      <th>reviewerID</th>\n",
       "      <th>asin</th>\n",
       "      <th>reviewerName</th>\n",
       "      <th>reviewText</th>\n",
       "      <th>overall</th>\n",
       "      <th>summary</th>\n",
       "      <th>unixReviewTime</th>\n",
       "      <th>reviewTime</th>\n",
       "      <th>category</th>\n",
       "      <th>total_votes</th>\n",
       "      <th>helpful_votes</th>\n",
       "      <th>helpfulness</th>\n",
       "    </tr>\n",
       "  </thead>\n",
       "  <tbody>\n",
       "    <tr>\n",
       "      <th>0</th>\n",
       "      <td>A36Y7X194VWVKA</td>\n",
       "      <td>104800001X</td>\n",
       "      <td>Mark D.</td>\n",
       "      <td>They are soo freaking annoying!!  Why?! You sp...</td>\n",
       "      <td>5</td>\n",
       "      <td>They're annoying... which is why they get five...</td>\n",
       "      <td>1376006400</td>\n",
       "      <td>08 9, 2013</td>\n",
       "      <td>Hardware</td>\n",
       "      <td>25</td>\n",
       "      <td>23</td>\n",
       "      <td>0.920000</td>\n",
       "    </tr>\n",
       "    <tr>\n",
       "      <th>1</th>\n",
       "      <td>A2GD2HORAJHBK5</td>\n",
       "      <td>104800001X</td>\n",
       "      <td>smiley</td>\n",
       "      <td>am using for 40k models, they are a great size...</td>\n",
       "      <td>5</td>\n",
       "      <td>using for 40k</td>\n",
       "      <td>1361145600</td>\n",
       "      <td>02 18, 2013</td>\n",
       "      <td>Hardware</td>\n",
       "      <td>7</td>\n",
       "      <td>6</td>\n",
       "      <td>0.857143</td>\n",
       "    </tr>\n",
       "    <tr>\n",
       "      <th>2</th>\n",
       "      <td>A7KVMEIDJP0JK</td>\n",
       "      <td>1558706879</td>\n",
       "      <td>Arthur Held</td>\n",
       "      <td>The color pictures and exploded diagrams are a...</td>\n",
       "      <td>5</td>\n",
       "      <td>Great source book for those new to building w/...</td>\n",
       "      <td>1085702400</td>\n",
       "      <td>05 28, 2004</td>\n",
       "      <td>Hardware</td>\n",
       "      <td>44</td>\n",
       "      <td>42</td>\n",
       "      <td>0.954545</td>\n",
       "    </tr>\n",
       "    <tr>\n",
       "      <th>3</th>\n",
       "      <td>A1C8O2EUVPZJUO</td>\n",
       "      <td>1558706879</td>\n",
       "      <td>Kevin L. Cradic</td>\n",
       "      <td>This has nice projects even someone just start...</td>\n",
       "      <td>4</td>\n",
       "      <td>Just buy a Kreg Jig?  This is the book for you!</td>\n",
       "      <td>1200700800</td>\n",
       "      <td>01 19, 2008</td>\n",
       "      <td>Hardware</td>\n",
       "      <td>28</td>\n",
       "      <td>28</td>\n",
       "      <td>1.000000</td>\n",
       "    </tr>\n",
       "    <tr>\n",
       "      <th>4</th>\n",
       "      <td>A2H2IP8SLZ3XQ7</td>\n",
       "      <td>1558706879</td>\n",
       "      <td>Michael Lamirata</td>\n",
       "      <td>Thought this book would be chock full of great...</td>\n",
       "      <td>2</td>\n",
       "      <td>Projects just aren't appealing.  Good Info for...</td>\n",
       "      <td>1358121600</td>\n",
       "      <td>01 14, 2013</td>\n",
       "      <td>Hardware</td>\n",
       "      <td>10</td>\n",
       "      <td>7</td>\n",
       "      <td>0.700000</td>\n",
       "    </tr>\n",
       "  </tbody>\n",
       "</table>\n",
       "</div>"
      ],
      "text/plain": [
       "       reviewerID        asin      reviewerName  \\\n",
       "0  A36Y7X194VWVKA  104800001X           Mark D.   \n",
       "1  A2GD2HORAJHBK5  104800001X            smiley   \n",
       "2   A7KVMEIDJP0JK  1558706879       Arthur Held   \n",
       "3  A1C8O2EUVPZJUO  1558706879   Kevin L. Cradic   \n",
       "4  A2H2IP8SLZ3XQ7  1558706879  Michael Lamirata   \n",
       "\n",
       "                                          reviewText  overall  \\\n",
       "0  They are soo freaking annoying!!  Why?! You sp...        5   \n",
       "1  am using for 40k models, they are a great size...        5   \n",
       "2  The color pictures and exploded diagrams are a...        5   \n",
       "3  This has nice projects even someone just start...        4   \n",
       "4  Thought this book would be chock full of great...        2   \n",
       "\n",
       "                                             summary  unixReviewTime  \\\n",
       "0  They're annoying... which is why they get five...      1376006400   \n",
       "1                                      using for 40k      1361145600   \n",
       "2  Great source book for those new to building w/...      1085702400   \n",
       "3    Just buy a Kreg Jig?  This is the book for you!      1200700800   \n",
       "4  Projects just aren't appealing.  Good Info for...      1358121600   \n",
       "\n",
       "    reviewTime  category  total_votes  helpful_votes  helpfulness  \n",
       "0   08 9, 2013  Hardware           25             23     0.920000  \n",
       "1  02 18, 2013  Hardware            7              6     0.857143  \n",
       "2  05 28, 2004  Hardware           44             42     0.954545  \n",
       "3  01 19, 2008  Hardware           28             28     1.000000  \n",
       "4  01 14, 2013  Hardware           10              7     0.700000  "
      ]
     },
     "execution_count": 6,
     "metadata": {},
     "output_type": "execute_result"
    }
   ],
   "source": [
    "df[\"total_votes\"] = df.helpful.str[1]\n",
    "df[\"helpful_votes\"] = df.helpful.str[0]\n",
    "df[\"helpfulness\"] = df.helpful.str[0] / df.helpful.str[1]\n",
    "df.drop(columns=[\"helpful\"], inplace=True)\n",
    "df=df[df.total_votes >= 5]\n",
    "\n",
    "df.reset_index(drop=True, inplace=True)\n",
    "df.head()"
   ]
  },
  {
   "cell_type": "code",
   "execution_count": 7,
   "metadata": {
    "scrolled": true
   },
   "outputs": [
    {
     "data": {
      "text/plain": [
       "38215"
      ]
     },
     "execution_count": 7,
     "metadata": {},
     "output_type": "execute_result"
    }
   ],
   "source": [
    "len(df)"
   ]
  },
  {
   "cell_type": "code",
   "execution_count": 8,
   "metadata": {},
   "outputs": [
    {
     "name": "stdout",
     "output_type": "stream",
     "text": [
      "<class 'pandas.core.frame.DataFrame'>\n",
      "RangeIndex: 38215 entries, 0 to 38214\n",
      "Data columns (total 12 columns):\n",
      " #   Column          Non-Null Count  Dtype  \n",
      "---  ------          --------------  -----  \n",
      " 0   reviewerID      38215 non-null  object \n",
      " 1   asin            38215 non-null  object \n",
      " 2   reviewerName    38131 non-null  object \n",
      " 3   reviewText      38215 non-null  object \n",
      " 4   overall         38215 non-null  int64  \n",
      " 5   summary         38215 non-null  object \n",
      " 6   unixReviewTime  38215 non-null  int64  \n",
      " 7   reviewTime      38215 non-null  object \n",
      " 8   category        38215 non-null  object \n",
      " 9   total_votes     38215 non-null  int64  \n",
      " 10  helpful_votes   38215 non-null  int64  \n",
      " 11  helpfulness     38215 non-null  float64\n",
      "dtypes: float64(1), int64(4), object(7)\n",
      "memory usage: 3.5+ MB\n"
     ]
    }
   ],
   "source": [
    "df.info()"
   ]
  },
  {
   "cell_type": "code",
   "execution_count": 9,
   "metadata": {},
   "outputs": [
    {
     "data": {
      "text/plain": [
       "count    38215.000000\n",
       "mean        18.708701\n",
       "std         44.730526\n",
       "min          5.000000\n",
       "25%          6.000000\n",
       "50%          9.000000\n",
       "75%         17.000000\n",
       "max       3643.000000\n",
       "Name: total_votes, dtype: float64"
      ]
     },
     "execution_count": 9,
     "metadata": {},
     "output_type": "execute_result"
    }
   ],
   "source": [
    "df.total_votes.describe()"
   ]
  },
  {
   "cell_type": "code",
   "execution_count": 10,
   "metadata": {},
   "outputs": [
    {
     "data": {
      "text/plain": [
       "Text(0, 0.5, 'Helpfulness')"
      ]
     },
     "execution_count": 10,
     "metadata": {},
     "output_type": "execute_result"
    },
    {
     "data": {
      "image/png": "[encoded data removed]",
      "text/plain": [
       "<Figure size 720x720 with 1 Axes>"
      ]
     },
     "metadata": {},
     "output_type": "display_data"
    }
   ],
   "source": [
    "cropped = df[df.total_votes < 100]\n",
    "fig, axc = plt.subplots(figsize=(10, 10))\n",
    "axc.scatter(cropped.total_votes, cropped.helpfulness)\n",
    "axc.set_title('Total Votes vs Helpfulness', fontsize= 30)\n",
    "axc.set_xlabel('Total Votes', fontsize= 20)\n",
    "axc.set_ylabel('Helpfulness', fontsize= 20)"
   ]
  },
  {
   "cell_type": "code",
   "execution_count": 11,
   "metadata": {},
   "outputs": [
    {
     "data": {
      "text/plain": [
       "Text(0, 0.5, 'Helpfulness')"
      ]
     },
     "execution_count": 11,
     "metadata": {},
     "output_type": "execute_result"
    },
    {
     "data": {
      "image/png": "[encoded data removed]",
      "text/plain": [
       "<Figure size 720x720 with 1 Axes>"
      ]
     },
     "metadata": {},
     "output_type": "display_data"
    }
   ],
   "source": [
    "df['textLength'] = [len(df.loc[row, 'reviewText']) for row in df.index]\n",
    "cropped = df[df.textLength < 10000]\n",
    "fig, ax = plt.subplots(figsize=(10, 10))\n",
    "ax.scatter(cropped.textLength, cropped.helpfulness)\n",
    "ax.set_title('Review Length vs Helpfulness', fontsize= 30)\n",
    "ax.set_xlabel('Review Length', fontsize= 20)\n",
    "ax.set_ylabel('Helpfulness', fontsize= 20)"
   ]
  },
  {
   "cell_type": "code",
   "execution_count": 12,
   "metadata": {},
   "outputs": [],
   "source": [
    "# df['readability'] = [textstat.text_standard(df.loc[row, 'reviewText'], float_output=True) for row in df.index]\n",
    "# fig, ax = plt.subplots(figsize=(10, 10))\n",
    "# ax.scatter(df.readability, df.helpfulness)\n",
    "# ax.set_title('Helpfulness vs Readability', fontsize= 30)\n",
    "# ax.set_xlabel('Helpfulness', fontsize= 20)\n",
    "# ax.set_ylabel('Readability', fontsize= 20)\n",
    "\n",
    "# s = df.sort_values(by=['readability'])\n",
    "# c = s[s.readability < 500]\n",
    "# fig, ax = plt.subplots(figsize=(10, 10))\n",
    "# ax.scatter(c.readability, c.helpfulness)"
   ]
  },
  {
   "cell_type": "code",
   "execution_count": 13,
   "metadata": {},
   "outputs": [
    {
     "data": {
      "text/html": [
       "<div>\n",
       "<style scoped>\n",
       "    .dataframe tbody tr th:only-of-type {\n",
       "        vertical-align: middle;\n",
       "    }\n",
       "\n",
       "    .dataframe tbody tr th {\n",
       "        vertical-align: top;\n",
       "    }\n",
       "\n",
       "    .dataframe thead th {\n",
       "        text-align: right;\n",
       "    }\n",
       "</style>\n",
       "<table border=\"1\" class=\"dataframe\">\n",
       "  <thead>\n",
       "    <tr style=\"text-align: right;\">\n",
       "      <th></th>\n",
       "      <th>reviewerID</th>\n",
       "      <th>asin</th>\n",
       "      <th>reviewerName</th>\n",
       "      <th>reviewText</th>\n",
       "      <th>overall</th>\n",
       "      <th>summary</th>\n",
       "      <th>unixReviewTime</th>\n",
       "      <th>reviewTime</th>\n",
       "      <th>category</th>\n",
       "      <th>total_votes</th>\n",
       "      <th>helpful_votes</th>\n",
       "      <th>helpfulness</th>\n",
       "      <th>textLength</th>\n",
       "      <th>helpful</th>\n",
       "    </tr>\n",
       "  </thead>\n",
       "  <tbody>\n",
       "    <tr>\n",
       "      <th>0</th>\n",
       "      <td>A36Y7X194VWVKA</td>\n",
       "      <td>104800001X</td>\n",
       "      <td>Mark D.</td>\n",
       "      <td>They are soo freaking annoying!!  Why?! You sp...</td>\n",
       "      <td>5</td>\n",
       "      <td>They're annoying... which is why they get five...</td>\n",
       "      <td>1376006400</td>\n",
       "      <td>08 9, 2013</td>\n",
       "      <td>Hardware</td>\n",
       "      <td>25</td>\n",
       "      <td>23</td>\n",
       "      <td>0.920000</td>\n",
       "      <td>500</td>\n",
       "      <td>1</td>\n",
       "    </tr>\n",
       "    <tr>\n",
       "      <th>1</th>\n",
       "      <td>A2GD2HORAJHBK5</td>\n",
       "      <td>104800001X</td>\n",
       "      <td>smiley</td>\n",
       "      <td>am using for 40k models, they are a great size...</td>\n",
       "      <td>5</td>\n",
       "      <td>using for 40k</td>\n",
       "      <td>1361145600</td>\n",
       "      <td>02 18, 2013</td>\n",
       "      <td>Hardware</td>\n",
       "      <td>7</td>\n",
       "      <td>6</td>\n",
       "      <td>0.857143</td>\n",
       "      <td>602</td>\n",
       "      <td>0</td>\n",
       "    </tr>\n",
       "    <tr>\n",
       "      <th>2</th>\n",
       "      <td>A7KVMEIDJP0JK</td>\n",
       "      <td>1558706879</td>\n",
       "      <td>Arthur Held</td>\n",
       "      <td>The color pictures and exploded diagrams are a...</td>\n",
       "      <td>5</td>\n",
       "      <td>Great source book for those new to building w/...</td>\n",
       "      <td>1085702400</td>\n",
       "      <td>05 28, 2004</td>\n",
       "      <td>Hardware</td>\n",
       "      <td>44</td>\n",
       "      <td>42</td>\n",
       "      <td>0.954545</td>\n",
       "      <td>212</td>\n",
       "      <td>1</td>\n",
       "    </tr>\n",
       "    <tr>\n",
       "      <th>3</th>\n",
       "      <td>A1C8O2EUVPZJUO</td>\n",
       "      <td>1558706879</td>\n",
       "      <td>Kevin L. Cradic</td>\n",
       "      <td>This has nice projects even someone just start...</td>\n",
       "      <td>4</td>\n",
       "      <td>Just buy a Kreg Jig?  This is the book for you!</td>\n",
       "      <td>1200700800</td>\n",
       "      <td>01 19, 2008</td>\n",
       "      <td>Hardware</td>\n",
       "      <td>28</td>\n",
       "      <td>28</td>\n",
       "      <td>1.000000</td>\n",
       "      <td>318</td>\n",
       "      <td>1</td>\n",
       "    </tr>\n",
       "    <tr>\n",
       "      <th>4</th>\n",
       "      <td>A2H2IP8SLZ3XQ7</td>\n",
       "      <td>1558706879</td>\n",
       "      <td>Michael Lamirata</td>\n",
       "      <td>Thought this book would be chock full of great...</td>\n",
       "      <td>2</td>\n",
       "      <td>Projects just aren't appealing.  Good Info for...</td>\n",
       "      <td>1358121600</td>\n",
       "      <td>01 14, 2013</td>\n",
       "      <td>Hardware</td>\n",
       "      <td>10</td>\n",
       "      <td>7</td>\n",
       "      <td>0.700000</td>\n",
       "      <td>285</td>\n",
       "      <td>0</td>\n",
       "    </tr>\n",
       "  </tbody>\n",
       "</table>\n",
       "</div>"
      ],
      "text/plain": [
       "       reviewerID        asin      reviewerName  \\\n",
       "0  A36Y7X194VWVKA  104800001X           Mark D.   \n",
       "1  A2GD2HORAJHBK5  104800001X            smiley   \n",
       "2   A7KVMEIDJP0JK  1558706879       Arthur Held   \n",
       "3  A1C8O2EUVPZJUO  1558706879   Kevin L. Cradic   \n",
       "4  A2H2IP8SLZ3XQ7  1558706879  Michael Lamirata   \n",
       "\n",
       "                                          reviewText  overall  \\\n",
       "0  They are soo freaking annoying!!  Why?! You sp...        5   \n",
       "1  am using for 40k models, they are a great size...        5   \n",
       "2  The color pictures and exploded diagrams are a...        5   \n",
       "3  This has nice projects even someone just start...        4   \n",
       "4  Thought this book would be chock full of great...        2   \n",
       "\n",
       "                                             summary  unixReviewTime  \\\n",
       "0  They're annoying... which is why they get five...      1376006400   \n",
       "1                                      using for 40k      1361145600   \n",
       "2  Great source book for those new to building w/...      1085702400   \n",
       "3    Just buy a Kreg Jig?  This is the book for you!      1200700800   \n",
       "4  Projects just aren't appealing.  Good Info for...      1358121600   \n",
       "\n",
       "    reviewTime  category  total_votes  helpful_votes  helpfulness  textLength  \\\n",
       "0   08 9, 2013  Hardware           25             23     0.920000         500   \n",
       "1  02 18, 2013  Hardware            7              6     0.857143         602   \n",
       "2  05 28, 2004  Hardware           44             42     0.954545         212   \n",
       "3  01 19, 2008  Hardware           28             28     1.000000         318   \n",
       "4  01 14, 2013  Hardware           10              7     0.700000         285   \n",
       "\n",
       "   helpful  \n",
       "0        1  \n",
       "1        0  \n",
       "2        1  \n",
       "3        1  \n",
       "4        0  "
      ]
     },
     "execution_count": 13,
     "metadata": {},
     "output_type": "execute_result"
    }
   ],
   "source": [
    "df[\"helpful\"] = np.where(df[\"helpfulness\"] > .86, 1, 0) \n",
    "df.head()"
   ]
  },
  {
   "cell_type": "code",
   "execution_count": 14,
   "metadata": {},
   "outputs": [
    {
     "data": {
      "text/plain": [
       "0    0.502185\n",
       "1    0.497815\n",
       "Name: helpful, dtype: float64"
      ]
     },
     "execution_count": 14,
     "metadata": {},
     "output_type": "execute_result"
    }
   ],
   "source": [
    "df.helpful.value_counts(normalize=True)"
   ]
  },
  {
   "cell_type": "code",
   "execution_count": 15,
   "metadata": {},
   "outputs": [
    {
     "name": "stdout",
     "output_type": "stream",
     "text": [
      "0    0.501292\n",
      "1    0.498708\n",
      "Name: helpful, dtype: float64\n",
      "0    0.504186\n",
      "1    0.495814\n",
      "Name: helpful, dtype: float64\n",
      "0    0.507326\n",
      "1    0.492674\n",
      "Name: helpful, dtype: float64\n"
     ]
    }
   ],
   "source": [
    "from sklearn.model_selection import train_test_split\n",
    "\n",
    "train_size = round(0.8 * len(df))\n",
    "test_size = round(0.1 * len(df))\n",
    "val_size = round(0.1 * len(df))\n",
    "\n",
    "x = df['reviewText']\n",
    "y = df['helpful']\n",
    "\n",
    "x_train, x_test, y_train, y_test = train_test_split(x, y, test_size = test_size, random_state = 123)\n",
    "x_train, x_val, y_train, y_val = train_test_split(x_train, y_train, test_size = val_size, random_state=123)\n",
    "\n",
    "print(y_train.value_counts(normalize=True))\n",
    "print(y_val.value_counts(normalize=True))\n",
    "print(y_test.value_counts(normalize=True))"
   ]
  },
  {
   "cell_type": "code",
   "execution_count": 16,
   "metadata": {},
   "outputs": [
    {
     "name": "stderr",
     "output_type": "stream",
     "text": [
      "[nltk_data] Downloading package stopwords to\n",
      "[nltk_data]     C:\\Users\\Ed\\AppData\\Roaming\\nltk_data...\n",
      "[nltk_data]   Package stopwords is already up-to-date!\n"
     ]
    }
   ],
   "source": [
    "import nltk\n",
    "nltk.download('stopwords')\n",
    "from nltk.corpus import stopwords\n",
    "import string\n",
    "\n",
    "stop_list = stopwords.words('english')\n",
    "stop_list += list(string.punctuation)\n",
    "stop_list += ['br', '.<', '..', '...', '``', \"''\", '--']"
   ]
  },
  {
   "cell_type": "code",
   "execution_count": 17,
   "metadata": {},
   "outputs": [
    {
     "data": {
      "text/plain": [
       "Pipeline(steps=[('vectorizer',\n",
       "                 CountVectorizer(max_features=100, ngram_range=(2, 2),\n",
       "                                 stop_words=['i', 'me', 'my', 'myself', 'we',\n",
       "                                             'our', 'ours', 'ourselves', 'you',\n",
       "                                             \"you're\", \"you've\", \"you'll\",\n",
       "                                             \"you'd\", 'your', 'yours',\n",
       "                                             'yourself', 'yourselves', 'he',\n",
       "                                             'him', 'his', 'himself', 'she',\n",
       "                                             \"she's\", 'her', 'hers', 'herself',\n",
       "                                             'it', \"it's\", 'its', 'itself', ...])),\n",
       "                ('forest', RandomForestClassifier(n_jobs=-1))])"
      ]
     },
     "execution_count": 17,
     "metadata": {},
     "output_type": "execute_result"
    }
   ],
   "source": [
    "from sklearn.feature_extraction.text import CountVectorizer\n",
    "from sklearn.pipeline import Pipeline\n",
    "from sklearn.ensemble import RandomForestClassifier\n",
    "\n",
    "pipe_bigram_rf = Pipeline([('vectorizer', CountVectorizer(analyzer='word', \n",
    "                                                          ngram_range=(2, 2), \n",
    "                                                          stop_words=stop_list, \n",
    "                                                          max_features=100)),\n",
    "                        ('forest', RandomForestClassifier(n_estimators=100,\n",
    "                                                          n_jobs=-1))])\n",
    "\n",
    "pipe_bigram_rf.fit(x_train, y_train)"
   ]
  },
  {
   "cell_type": "code",
   "execution_count": 18,
   "metadata": {},
   "outputs": [
    {
     "name": "stdout",
     "output_type": "stream",
     "text": [
      "Training accuracy: 0.694841516469857\n"
     ]
    }
   ],
   "source": [
    "from sklearn.metrics import accuracy_score, confusion_matrix, classification_report\n",
    "\n",
    "y_pred_train = pipe_bigram_rf.predict(x_train)\n",
    "print('Training accuracy:', accuracy_score(y_train, y_pred_train))"
   ]
  },
  {
   "cell_type": "code",
   "execution_count": 19,
   "metadata": {},
   "outputs": [
    {
     "name": "stdout",
     "output_type": "stream",
     "text": [
      "Validation accuracy: 0.5607012035583464\n"
     ]
    }
   ],
   "source": [
    "# Validate\n",
    "y_pred_val = pipe_bigram_rf.predict(x_val)\n",
    "print('Validation accuracy:', accuracy_score(y_val, y_pred_val))"
   ]
  },
  {
   "cell_type": "code",
   "execution_count": 20,
   "metadata": {},
   "outputs": [
    {
     "name": "stdout",
     "output_type": "stream",
     "text": [
      "              precision    recall  f1-score   support\n",
      "\n",
      "           0       0.55      0.71      0.62      1927\n",
      "           1       0.58      0.41      0.48      1895\n",
      "\n",
      "    accuracy                           0.56      3822\n",
      "   macro avg       0.57      0.56      0.55      3822\n",
      "weighted avg       0.57      0.56      0.55      3822\n",
      "\n"
     ]
    }
   ],
   "source": [
    "# View additional metrics\n",
    "print(classification_report(y_val, y_pred_val))"
   ]
  },
  {
   "cell_type": "code",
   "execution_count": null,
   "metadata": {},
   "outputs": [],
   "source": []
  }
 ],
 "metadata": {
  "kernelspec": {
   "display_name": "Python 3",
   "language": "python",
   "name": "python3"
  },
  "language_info": {
   "codemirror_mode": {
    "name": "ipython",
    "version": 3
   },
   "file_extension": ".py",
   "mimetype": "text/x-python",
   "name": "python",
   "nbconvert_exporter": "python",
   "pygments_lexer": "ipython3",
   "version": "3.8.5"
  }
 },
 "nbformat": 4,
 "nbformat_minor": 4
}
